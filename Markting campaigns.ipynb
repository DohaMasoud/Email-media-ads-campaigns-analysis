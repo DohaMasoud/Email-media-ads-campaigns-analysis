{
 "cells": [
  {
   "cell_type": "code",
   "execution_count": 1,
   "metadata": {
    "colab": {
     "base_uri": "https://localhost:8080/"
    },
    "id": "UGmb7M1uZK9O",
    "outputId": "a8767a68-ed14-4ecd-c632-04e7c177ba75"
   },
   "outputs": [
    {
     "name": "stdout",
     "output_type": "stream",
     "text": [
      "DataFrames created successfully!\n"
     ]
    }
   ],
   "source": [
    "import requests\n",
    "import pandas as pd\n",
    "import numpy as np\n",
    "import io\n",
    "\n",
    "api_key = \"12dbc5f0\"\n",
    "\n",
    "url_campaigns = f\"https://my.api.mockaroo.com/email_campaigns_2024.json?key={api_key}\"\n",
    "url_performance = f\"https://my.api.mockaroo.com/email_campaign_data_performance.json?key={api_key}\"\n",
    "\n",
    "response_campaigns = requests.get(url_campaigns)\n",
    "response_performance = requests.get(url_performance)\n",
    "\n",
    "if response_campaigns.status_code == 200 and response_performance.status_code == 200:\n",
    "    try:\n",
    "        df_campaigns = pd.read_csv(io.StringIO(response_campaigns.text))\n",
    "        df_performance = pd.read_csv(io.StringIO(response_performance.text))\n",
    "\n",
    "        print(\"DataFrames created successfully!\")\n",
    "\n",
    "    except Exception as e:\n",
    "        print(\" Failed to parse CSV:\", e)\n",
    "else:\n",
    "    print(\"Request failed.\")\n"
   ]
  },
  {
   "cell_type": "code",
   "execution_count": 3,
   "metadata": {
    "colab": {
     "base_uri": "https://localhost:8080/",
     "height": 143
    },
    "id": "aAaX_Dzyd1gS",
    "outputId": "9f2135b9-cbf9-4856-97ef-c5f587bc4198"
   },
   "outputs": [
    {
     "data": {
      "text/html": [
       "<div>\n",
       "<style scoped>\n",
       "    .dataframe tbody tr th:only-of-type {\n",
       "        vertical-align: middle;\n",
       "    }\n",
       "\n",
       "    .dataframe tbody tr th {\n",
       "        vertical-align: top;\n",
       "    }\n",
       "\n",
       "    .dataframe thead th {\n",
       "        text-align: right;\n",
       "    }\n",
       "</style>\n",
       "<table border=\"1\" class=\"dataframe\">\n",
       "  <thead>\n",
       "    <tr style=\"text-align: right;\">\n",
       "      <th></th>\n",
       "      <th>campaign_id\\t</th>\n",
       "      <th>Compaign_name</th>\n",
       "      <th>age_group</th>\n",
       "      <th>platform</th>\n",
       "      <th>start_date</th>\n",
       "      <th>end_date</th>\n",
       "      <th>objectives</th>\n",
       "      <th>Budget</th>\n",
       "    </tr>\n",
       "  </thead>\n",
       "  <tbody>\n",
       "    <tr>\n",
       "      <th>0</th>\n",
       "      <td>CAMPAIGN_021</td>\n",
       "      <td>New Arrival: Try It First</td>\n",
       "      <td>25-34</td>\n",
       "      <td>Klaviyo</td>\n",
       "      <td>8/20/2024</td>\n",
       "      <td>9/20/2024</td>\n",
       "      <td>Conversions</td>\n",
       "      <td>8085</td>\n",
       "    </tr>\n",
       "    <tr>\n",
       "      <th>1</th>\n",
       "      <td>CAMPAIGN_022</td>\n",
       "      <td>Fresh Drop Alert</td>\n",
       "      <td>55+</td>\n",
       "      <td>Klaviyo</td>\n",
       "      <td>9/23/2024</td>\n",
       "      <td>11/5/2024</td>\n",
       "      <td>Conversions</td>\n",
       "      <td>10854</td>\n",
       "    </tr>\n",
       "    <tr>\n",
       "      <th>2</th>\n",
       "      <td>CAMPAIGN_023</td>\n",
       "      <td>Don't Miss Out!</td>\n",
       "      <td>45-54</td>\n",
       "      <td>Klaviyo</td>\n",
       "      <td>12/8/2024</td>\n",
       "      <td>3/8/2025</td>\n",
       "      <td>Traffic</td>\n",
       "      <td>8672</td>\n",
       "    </tr>\n",
       "  </tbody>\n",
       "</table>\n",
       "</div>"
      ],
      "text/plain": [
       "  campaign_id\\t              Compaign_name age_group platform start_date  \\\n",
       "0  CAMPAIGN_021  New Arrival: Try It First     25-34  Klaviyo  8/20/2024   \n",
       "1  CAMPAIGN_022           Fresh Drop Alert       55+  Klaviyo  9/23/2024   \n",
       "2  CAMPAIGN_023            Don't Miss Out!     45-54  Klaviyo  12/8/2024   \n",
       "\n",
       "    end_date   objectives  Budget  \n",
       "0  9/20/2024  Conversions    8085  \n",
       "1  11/5/2024  Conversions   10854  \n",
       "2   3/8/2025      Traffic    8672  "
      ]
     },
     "execution_count": 3,
     "metadata": {},
     "output_type": "execute_result"
    }
   ],
   "source": [
    "df_campaigns"
   ]
  },
  {
   "cell_type": "code",
   "execution_count": 5,
   "metadata": {
    "colab": {
     "base_uri": "https://localhost:8080/",
     "height": 486
    },
    "id": "YkMUf-fbd6Pu",
    "outputId": "0ea48fd9-a464-4ce5-918a-57fed93b8842"
   },
   "outputs": [
    {
     "data": {
      "text/html": [
       "<div>\n",
       "<style scoped>\n",
       "    .dataframe tbody tr th:only-of-type {\n",
       "        vertical-align: middle;\n",
       "    }\n",
       "\n",
       "    .dataframe tbody tr th {\n",
       "        vertical-align: top;\n",
       "    }\n",
       "\n",
       "    .dataframe thead th {\n",
       "        text-align: right;\n",
       "    }\n",
       "</style>\n",
       "<table border=\"1\" class=\"dataframe\">\n",
       "  <thead>\n",
       "    <tr style=\"text-align: right;\">\n",
       "      <th></th>\n",
       "      <th>customer id</th>\n",
       "      <th>name</th>\n",
       "      <th>email</th>\n",
       "      <th>customer_status</th>\n",
       "      <th>response_type</th>\n",
       "      <th>send_date</th>\n",
       "      <th>open_date</th>\n",
       "      <th>bounce_date</th>\n",
       "      <th>subscriptions</th>\n",
       "      <th>conversions</th>\n",
       "      <th>click_date</th>\n",
       "      <th>spam_reports</th>\n",
       "      <th>revenue_generated</th>\n",
       "      <th>campaign_id\\t</th>\n",
       "    </tr>\n",
       "  </thead>\n",
       "  <tbody>\n",
       "    <tr>\n",
       "      <th>0</th>\n",
       "      <td>80c9bf5d-6062-4d13-9f06-d0b14911b875</td>\n",
       "      <td>Belva Grayne</td>\n",
       "      <td>bgrayne0@scribd.com</td>\n",
       "      <td>Other</td>\n",
       "      <td>No Response</td>\n",
       "      <td>9/12/2024</td>\n",
       "      <td>4/22/2024</td>\n",
       "      <td>NaN</td>\n",
       "      <td>4</td>\n",
       "      <td>2</td>\n",
       "      <td>3/15/2024</td>\n",
       "      <td>2</td>\n",
       "      <td>Rupiah</td>\n",
       "      <td>CAMPAIGN_021</td>\n",
       "    </tr>\n",
       "    <tr>\n",
       "      <th>1</th>\n",
       "      <td>b3639b11-3a03-4e85-9fdf-f73a72cd54a2</td>\n",
       "      <td>Kerwin Tamlett</td>\n",
       "      <td>ktamlett1@google.fr</td>\n",
       "      <td>Existing</td>\n",
       "      <td>No Response</td>\n",
       "      <td>2/18/2024</td>\n",
       "      <td>7/19/2024</td>\n",
       "      <td>6/9/2024</td>\n",
       "      <td>2</td>\n",
       "      <td>2</td>\n",
       "      <td>4/12/2024</td>\n",
       "      <td>0</td>\n",
       "      <td>Peso</td>\n",
       "      <td>CAMPAIGN_021</td>\n",
       "    </tr>\n",
       "    <tr>\n",
       "      <th>2</th>\n",
       "      <td>4eafb3a5-222d-48cf-84ea-158ec428bbbb</td>\n",
       "      <td>Boycie Wedderburn</td>\n",
       "      <td>bwedderburn2@g.co</td>\n",
       "      <td>Other</td>\n",
       "      <td>No Response</td>\n",
       "      <td>8/28/2024</td>\n",
       "      <td>4/30/2024</td>\n",
       "      <td>6/21/2024</td>\n",
       "      <td>4</td>\n",
       "      <td>0</td>\n",
       "      <td>4/28/2024</td>\n",
       "      <td>2</td>\n",
       "      <td>Yuan Renminbi</td>\n",
       "      <td>CAMPAIGN_022</td>\n",
       "    </tr>\n",
       "    <tr>\n",
       "      <th>3</th>\n",
       "      <td>6104cda5-b8f0-404f-a79d-ce76237c3fc4</td>\n",
       "      <td>Shelby Eldon</td>\n",
       "      <td>seldon3@buzzfeed.com</td>\n",
       "      <td>Other</td>\n",
       "      <td>No Response</td>\n",
       "      <td>9/30/2024</td>\n",
       "      <td>5/2/2024</td>\n",
       "      <td>11/5/2024</td>\n",
       "      <td>5</td>\n",
       "      <td>3</td>\n",
       "      <td>12/26/2024</td>\n",
       "      <td>1</td>\n",
       "      <td>Yuan Renminbi</td>\n",
       "      <td>CAMPAIGN_022</td>\n",
       "    </tr>\n",
       "    <tr>\n",
       "      <th>4</th>\n",
       "      <td>ce88477a-df9c-4d03-84d7-4dc2038b1675</td>\n",
       "      <td>Alexandrina Ife</td>\n",
       "      <td>aife4@mapquest.com</td>\n",
       "      <td>Other</td>\n",
       "      <td>Other</td>\n",
       "      <td>7/15/2024</td>\n",
       "      <td>9/15/2024</td>\n",
       "      <td>1/4/2025</td>\n",
       "      <td>2</td>\n",
       "      <td>0</td>\n",
       "      <td>NaN</td>\n",
       "      <td>1</td>\n",
       "      <td>Euro</td>\n",
       "      <td>CAMPAIGN_023</td>\n",
       "    </tr>\n",
       "  </tbody>\n",
       "</table>\n",
       "</div>"
      ],
      "text/plain": [
       "                            customer id               name  \\\n",
       "0  80c9bf5d-6062-4d13-9f06-d0b14911b875       Belva Grayne   \n",
       "1  b3639b11-3a03-4e85-9fdf-f73a72cd54a2     Kerwin Tamlett   \n",
       "2  4eafb3a5-222d-48cf-84ea-158ec428bbbb  Boycie Wedderburn   \n",
       "3  6104cda5-b8f0-404f-a79d-ce76237c3fc4       Shelby Eldon   \n",
       "4  ce88477a-df9c-4d03-84d7-4dc2038b1675    Alexandrina Ife   \n",
       "\n",
       "                  email customer_status response_type  send_date  open_date  \\\n",
       "0   bgrayne0@scribd.com           Other   No Response  9/12/2024  4/22/2024   \n",
       "1   ktamlett1@google.fr        Existing   No Response  2/18/2024  7/19/2024   \n",
       "2     bwedderburn2@g.co           Other   No Response  8/28/2024  4/30/2024   \n",
       "3  seldon3@buzzfeed.com           Other   No Response  9/30/2024   5/2/2024   \n",
       "4    aife4@mapquest.com           Other         Other  7/15/2024  9/15/2024   \n",
       "\n",
       "  bounce_date  subscriptions  conversions  click_date  spam_reports  \\\n",
       "0         NaN              4            2   3/15/2024             2   \n",
       "1    6/9/2024              2            2   4/12/2024             0   \n",
       "2   6/21/2024              4            0   4/28/2024             2   \n",
       "3   11/5/2024              5            3  12/26/2024             1   \n",
       "4    1/4/2025              2            0         NaN             1   \n",
       "\n",
       "  revenue_generated campaign_id\\t  \n",
       "0            Rupiah  CAMPAIGN_021  \n",
       "1              Peso  CAMPAIGN_021  \n",
       "2     Yuan Renminbi  CAMPAIGN_022  \n",
       "3     Yuan Renminbi  CAMPAIGN_022  \n",
       "4              Euro  CAMPAIGN_023  "
      ]
     },
     "execution_count": 5,
     "metadata": {},
     "output_type": "execute_result"
    }
   ],
   "source": [
    "df_performance.head()"
   ]
  },
  {
   "cell_type": "code",
   "execution_count": 7,
   "metadata": {
    "colab": {
     "base_uri": "https://localhost:8080/"
    },
    "id": "BLFn4hFhx81w",
    "outputId": "4d489f69-aacf-4e2c-dc84-b3c6ecefb795"
   },
   "outputs": [
    {
     "data": {
      "text/plain": [
       "array(['Other', 'Existing', 'Interested'], dtype=object)"
      ]
     },
     "execution_count": 7,
     "metadata": {},
     "output_type": "execute_result"
    }
   ],
   "source": [
    "df_performance['customer_status'].unique()"
   ]
  },
  {
   "cell_type": "code",
   "execution_count": 9,
   "metadata": {
    "colab": {
     "base_uri": "https://localhost:8080/"
    },
    "id": "M1Zze05skDv0",
    "outputId": "e4d2cf9e-59c1-4d15-db6d-3ac8071c807f"
   },
   "outputs": [
    {
     "name": "stdout",
     "output_type": "stream",
     "text": [
      "<class 'pandas.core.frame.DataFrame'>\n",
      "RangeIndex: 200 entries, 0 to 199\n",
      "Data columns (total 14 columns):\n",
      " #   Column             Non-Null Count  Dtype \n",
      "---  ------             --------------  ----- \n",
      " 0   customer id        200 non-null    object\n",
      " 1   name               200 non-null    object\n",
      " 2   email              200 non-null    object\n",
      " 3   customer_status    200 non-null    object\n",
      " 4   response_type      200 non-null    object\n",
      " 5   send_date          200 non-null    object\n",
      " 6   open_date          200 non-null    object\n",
      " 7   bounce_date        187 non-null    object\n",
      " 8   subscriptions      200 non-null    int64 \n",
      " 9   conversions        200 non-null    int64 \n",
      " 10  click_date         195 non-null    object\n",
      " 11  spam_reports       200 non-null    int64 \n",
      " 12  revenue_generated  200 non-null    object\n",
      " 13  campaign_id\t       200 non-null    object\n",
      "dtypes: int64(3), object(11)\n",
      "memory usage: 22.0+ KB\n"
     ]
    }
   ],
   "source": [
    "df_performance.info()"
   ]
  },
  {
   "cell_type": "code",
   "execution_count": 11,
   "metadata": {
    "colab": {
     "base_uri": "https://localhost:8080/",
     "height": 300
    },
    "id": "rW1DRe64vA4b",
    "outputId": "53ec294e-f56b-45c6-a3e9-718dd58f876c"
   },
   "outputs": [
    {
     "data": {
      "text/html": [
       "<div>\n",
       "<style scoped>\n",
       "    .dataframe tbody tr th:only-of-type {\n",
       "        vertical-align: middle;\n",
       "    }\n",
       "\n",
       "    .dataframe tbody tr th {\n",
       "        vertical-align: top;\n",
       "    }\n",
       "\n",
       "    .dataframe thead th {\n",
       "        text-align: right;\n",
       "    }\n",
       "</style>\n",
       "<table border=\"1\" class=\"dataframe\">\n",
       "  <thead>\n",
       "    <tr style=\"text-align: right;\">\n",
       "      <th></th>\n",
       "      <th>subscriptions</th>\n",
       "      <th>conversions</th>\n",
       "      <th>spam_reports</th>\n",
       "    </tr>\n",
       "  </thead>\n",
       "  <tbody>\n",
       "    <tr>\n",
       "      <th>count</th>\n",
       "      <td>200.000000</td>\n",
       "      <td>200.000000</td>\n",
       "      <td>200.000000</td>\n",
       "    </tr>\n",
       "    <tr>\n",
       "      <th>mean</th>\n",
       "      <td>2.560000</td>\n",
       "      <td>1.560000</td>\n",
       "      <td>1.070000</td>\n",
       "    </tr>\n",
       "    <tr>\n",
       "      <th>std</th>\n",
       "      <td>1.720816</td>\n",
       "      <td>1.137042</td>\n",
       "      <td>0.817583</td>\n",
       "    </tr>\n",
       "    <tr>\n",
       "      <th>min</th>\n",
       "      <td>0.000000</td>\n",
       "      <td>0.000000</td>\n",
       "      <td>0.000000</td>\n",
       "    </tr>\n",
       "    <tr>\n",
       "      <th>25%</th>\n",
       "      <td>1.000000</td>\n",
       "      <td>1.000000</td>\n",
       "      <td>0.000000</td>\n",
       "    </tr>\n",
       "    <tr>\n",
       "      <th>50%</th>\n",
       "      <td>2.500000</td>\n",
       "      <td>2.000000</td>\n",
       "      <td>1.000000</td>\n",
       "    </tr>\n",
       "    <tr>\n",
       "      <th>75%</th>\n",
       "      <td>4.000000</td>\n",
       "      <td>3.000000</td>\n",
       "      <td>2.000000</td>\n",
       "    </tr>\n",
       "    <tr>\n",
       "      <th>max</th>\n",
       "      <td>5.000000</td>\n",
       "      <td>3.000000</td>\n",
       "      <td>2.000000</td>\n",
       "    </tr>\n",
       "  </tbody>\n",
       "</table>\n",
       "</div>"
      ],
      "text/plain": [
       "       subscriptions  conversions  spam_reports\n",
       "count     200.000000   200.000000    200.000000\n",
       "mean        2.560000     1.560000      1.070000\n",
       "std         1.720816     1.137042      0.817583\n",
       "min         0.000000     0.000000      0.000000\n",
       "25%         1.000000     1.000000      0.000000\n",
       "50%         2.500000     2.000000      1.000000\n",
       "75%         4.000000     3.000000      2.000000\n",
       "max         5.000000     3.000000      2.000000"
      ]
     },
     "execution_count": 11,
     "metadata": {},
     "output_type": "execute_result"
    }
   ],
   "source": [
    "df_performance.describe()"
   ]
  },
  {
   "cell_type": "code",
   "execution_count": 13,
   "metadata": {
    "colab": {
     "base_uri": "https://localhost:8080/"
    },
    "id": "_NIJXMlYd-I9",
    "outputId": "fb6839aa-4c3e-45e2-b2d6-d8b4cac6b2af"
   },
   "outputs": [
    {
     "data": {
      "text/plain": [
       "(200, 14)"
      ]
     },
     "execution_count": 13,
     "metadata": {},
     "output_type": "execute_result"
    }
   ],
   "source": [
    "df_performance.shape"
   ]
  },
  {
   "cell_type": "code",
   "execution_count": 15,
   "metadata": {
    "colab": {
     "base_uri": "https://localhost:8080/"
    },
    "id": "gSecPtTJrKdr",
    "outputId": "7b985131-242c-486e-fc6f-698e79671234"
   },
   "outputs": [
    {
     "data": {
      "text/plain": [
       "0"
      ]
     },
     "execution_count": 15,
     "metadata": {},
     "output_type": "execute_result"
    }
   ],
   "source": [
    "df_performance.duplicated().sum()"
   ]
  },
  {
   "cell_type": "code",
   "execution_count": 17,
   "metadata": {
    "colab": {
     "base_uri": "https://localhost:8080/",
     "height": 523
    },
    "id": "kmHfLNCCeaUv",
    "outputId": "5ba8074f-6e78-4a14-b922-017e5ad4e7f8"
   },
   "outputs": [
    {
     "data": {
      "text/plain": [
       "customer id           0\n",
       "name                  0\n",
       "email                 0\n",
       "customer_status       0\n",
       "response_type         0\n",
       "send_date             0\n",
       "open_date             0\n",
       "bounce_date          13\n",
       "subscriptions         0\n",
       "conversions           0\n",
       "click_date            5\n",
       "spam_reports          0\n",
       "revenue_generated     0\n",
       "campaign_id\\t         0\n",
       "dtype: int64"
      ]
     },
     "execution_count": 17,
     "metadata": {},
     "output_type": "execute_result"
    }
   ],
   "source": [
    "df_performance.isnull().sum()"
   ]
  },
  {
   "cell_type": "code",
   "execution_count": 8,
   "metadata": {
    "colab": {
     "base_uri": "https://localhost:8080/"
    },
    "id": "ZJ28YyIamLod",
    "outputId": "b05b34af-7d42-4088-aef7-912fc396f043"
   },
   "outputs": [
    {
     "name": "stderr",
     "output_type": "stream",
     "text": [
      "/tmp/ipython-input-8-2056231794.py:7: FutureWarning: A value is trying to be set on a copy of a DataFrame or Series through chained assignment using an inplace method.\n",
      "The behavior will change in pandas 3.0. This inplace method will never work because the intermediate object on which we are setting values always behaves as a copy.\n",
      "\n",
      "For example, when doing 'df[col].method(value, inplace=True)', try using 'df.method({col: value}, inplace=True)' or df[col] = df[col].method(value) instead, to perform the operation inplace on the original object.\n",
      "\n",
      "\n",
      "  df_performance['click_date'].fillna(df_performance['open_date']+diffday,inplace=True)\n"
     ]
    }
   ],
   "source": [
    "#change datatype to date\n",
    "df_performance['open_date']=pd.to_datetime(df_performance['open_date'])\n",
    "df_performance['click_date']=pd.to_datetime(df_performance['click_date'])\n",
    "#get avarage days between open date & click date\n",
    "diffday=np.mean(df_performance['open_date']-df_performance['click_date'])\n",
    "#fill null values\n",
    "df_performance['click_date'].fillna(df_performance['open_date']+diffday,inplace=True)"
   ]
  },
  {
   "cell_type": "code",
   "execution_count": 19,
   "metadata": {
    "colab": {
     "base_uri": "https://localhost:8080/"
    },
    "id": "mEHAyDoTpAGY",
    "outputId": "59ceed6f-7aa0-4ab9-b82b-7eda09eed6a1"
   },
   "outputs": [
    {
     "data": {
      "text/plain": [
       "5"
      ]
     },
     "execution_count": 19,
     "metadata": {},
     "output_type": "execute_result"
    }
   ],
   "source": [
    "df_performance['click_date'].isnull().sum()"
   ]
  },
  {
   "cell_type": "code",
   "execution_count": 32,
   "metadata": {
    "id": "9G0SMZgWsMTJ"
   },
   "outputs": [],
   "source": [
    "Marketing_AdsPerformance=pd.read_excel('C:/Users/arwa abdalazim/Downloads/Media Compaigns/Media Compaigns/Marketing_AdsPerformance_2024.xlsx')\n",
    "Marketing_AudienceInsights=pd.read_excel('C:/Users/arwa abdalazim/Downloads/Media Compaigns/Media Compaigns/Marketing_AudienceInsights_2024.xlsx')\n",
    "Marketing_Campaigns=pd.read_excel('C:/Users/arwa abdalazim/Downloads/Media Compaigns/Media Compaigns/Marketing_Campaigns_2024.xlsx')"
   ]
  },
  {
   "cell_type": "code",
   "execution_count": 34,
   "metadata": {
    "colab": {
     "base_uri": "https://localhost:8080/",
     "height": 206
    },
    "id": "mzGg5zZPuxC-",
    "outputId": "4fa6782b-c633-4b14-d9e3-29952ebd2fb0"
   },
   "outputs": [
    {
     "data": {
      "text/html": [
       "<div>\n",
       "<style scoped>\n",
       "    .dataframe tbody tr th:only-of-type {\n",
       "        vertical-align: middle;\n",
       "    }\n",
       "\n",
       "    .dataframe tbody tr th {\n",
       "        vertical-align: top;\n",
       "    }\n",
       "\n",
       "    .dataframe thead th {\n",
       "        text-align: right;\n",
       "    }\n",
       "</style>\n",
       "<table border=\"1\" class=\"dataframe\">\n",
       "  <thead>\n",
       "    <tr style=\"text-align: right;\">\n",
       "      <th></th>\n",
       "      <th>Campaign ID</th>\n",
       "      <th>Campaign Name</th>\n",
       "      <th>Platform</th>\n",
       "      <th>Start Date</th>\n",
       "      <th>End Date</th>\n",
       "      <th>Budget</th>\n",
       "      <th>Objective</th>\n",
       "    </tr>\n",
       "  </thead>\n",
       "  <tbody>\n",
       "    <tr>\n",
       "      <th>0</th>\n",
       "      <td>CAMPAIGN_001</td>\n",
       "      <td>New Year Boost</td>\n",
       "      <td>TikTok</td>\n",
       "      <td>2024-02-27</td>\n",
       "      <td>2024-03-05</td>\n",
       "      <td>17376.32</td>\n",
       "      <td>Awareness</td>\n",
       "    </tr>\n",
       "    <tr>\n",
       "      <th>1</th>\n",
       "      <td>CAMPAIGN_002</td>\n",
       "      <td>Spring Sale</td>\n",
       "      <td>Facebook</td>\n",
       "      <td>2024-02-28</td>\n",
       "      <td>2024-04-11</td>\n",
       "      <td>35451.48</td>\n",
       "      <td>Conversions</td>\n",
       "    </tr>\n",
       "    <tr>\n",
       "      <th>2</th>\n",
       "      <td>CAMPAIGN_003</td>\n",
       "      <td>Ramadan Promo</td>\n",
       "      <td>Instagram</td>\n",
       "      <td>2024-02-29</td>\n",
       "      <td>2024-03-10</td>\n",
       "      <td>6430.22</td>\n",
       "      <td>Awareness</td>\n",
       "    </tr>\n",
       "    <tr>\n",
       "      <th>3</th>\n",
       "      <td>CAMPAIGN_004</td>\n",
       "      <td>Summer Splash</td>\n",
       "      <td>TikTok</td>\n",
       "      <td>2024-03-01</td>\n",
       "      <td>2024-05-05</td>\n",
       "      <td>32090.84</td>\n",
       "      <td>Conversions</td>\n",
       "    </tr>\n",
       "    <tr>\n",
       "      <th>4</th>\n",
       "      <td>CAMPAIGN_005</td>\n",
       "      <td>Back to School</td>\n",
       "      <td>TikTok</td>\n",
       "      <td>2024-03-02</td>\n",
       "      <td>2024-05-10</td>\n",
       "      <td>36559.62</td>\n",
       "      <td>Traffic</td>\n",
       "    </tr>\n",
       "  </tbody>\n",
       "</table>\n",
       "</div>"
      ],
      "text/plain": [
       "    Campaign ID   Campaign Name   Platform Start Date   End Date    Budget  \\\n",
       "0  CAMPAIGN_001  New Year Boost     TikTok 2024-02-27 2024-03-05  17376.32   \n",
       "1  CAMPAIGN_002     Spring Sale   Facebook 2024-02-28 2024-04-11  35451.48   \n",
       "2  CAMPAIGN_003   Ramadan Promo  Instagram 2024-02-29 2024-03-10   6430.22   \n",
       "3  CAMPAIGN_004   Summer Splash     TikTok 2024-03-01 2024-05-05  32090.84   \n",
       "4  CAMPAIGN_005  Back to School     TikTok 2024-03-02 2024-05-10  36559.62   \n",
       "\n",
       "     Objective  \n",
       "0    Awareness  \n",
       "1  Conversions  \n",
       "2    Awareness  \n",
       "3  Conversions  \n",
       "4      Traffic  "
      ]
     },
     "execution_count": 34,
     "metadata": {},
     "output_type": "execute_result"
    }
   ],
   "source": [
    "Marketing_Campaigns.head()"
   ]
  },
  {
   "cell_type": "code",
   "execution_count": 36,
   "metadata": {
    "colab": {
     "base_uri": "https://localhost:8080/"
    },
    "id": "35_h9FSSw8pr",
    "outputId": "617d27c9-0574-4893-dc02-1c375eb346e0"
   },
   "outputs": [
    {
     "data": {
      "text/plain": [
       "array(['TikTok', 'Facebook', 'Instagram'], dtype=object)"
      ]
     },
     "execution_count": 36,
     "metadata": {},
     "output_type": "execute_result"
    }
   ],
   "source": [
    "Marketing_Campaigns['Platform'].unique()"
   ]
  },
  {
   "cell_type": "code",
   "execution_count": 38,
   "metadata": {
    "colab": {
     "base_uri": "https://localhost:8080/"
    },
    "id": "6oN9mrhwxa51",
    "outputId": "a6a5eee3-db26-4c6f-8298-0dce8d63bb1f"
   },
   "outputs": [
    {
     "data": {
      "text/plain": [
       "array(['Awareness', 'Conversions', 'Traffic'], dtype=object)"
      ]
     },
     "execution_count": 38,
     "metadata": {},
     "output_type": "execute_result"
    }
   ],
   "source": [
    "Marketing_Campaigns['Objective'].unique()"
   ]
  },
  {
   "cell_type": "code",
   "execution_count": 40,
   "metadata": {
    "colab": {
     "base_uri": "https://localhost:8080/"
    },
    "id": "0JJ0oxbru5_3",
    "outputId": "594ada9b-2310-4d7f-d4e2-1fce04782b92"
   },
   "outputs": [
    {
     "name": "stdout",
     "output_type": "stream",
     "text": [
      "<class 'pandas.core.frame.DataFrame'>\n",
      "RangeIndex: 20 entries, 0 to 19\n",
      "Data columns (total 7 columns):\n",
      " #   Column         Non-Null Count  Dtype         \n",
      "---  ------         --------------  -----         \n",
      " 0   Campaign ID    20 non-null     object        \n",
      " 1   Campaign Name  20 non-null     object        \n",
      " 2   Platform       20 non-null     object        \n",
      " 3   Start Date     20 non-null     datetime64[ns]\n",
      " 4   End Date       20 non-null     datetime64[ns]\n",
      " 5   Budget         20 non-null     float64       \n",
      " 6   Objective      20 non-null     object        \n",
      "dtypes: datetime64[ns](2), float64(1), object(4)\n",
      "memory usage: 1.2+ KB\n"
     ]
    }
   ],
   "source": [
    "Marketing_Campaigns.info()"
   ]
  },
  {
   "cell_type": "code",
   "execution_count": 42,
   "metadata": {
    "colab": {
     "base_uri": "https://localhost:8080/"
    },
    "id": "1rRS5QUyvQ5z",
    "outputId": "2a22bb1c-6007-49ea-ab92-a3af2fb0cda6"
   },
   "outputs": [
    {
     "data": {
      "text/plain": [
       "0"
      ]
     },
     "execution_count": 42,
     "metadata": {},
     "output_type": "execute_result"
    }
   ],
   "source": [
    "Marketing_Campaigns.duplicated().sum()"
   ]
  },
  {
   "cell_type": "code",
   "execution_count": 44,
   "metadata": {
    "colab": {
     "base_uri": "https://localhost:8080/",
     "height": 303
    },
    "id": "CRIiTw9fvaWy",
    "outputId": "20fd8bb6-7e4d-4049-9f52-296d0181cb76"
   },
   "outputs": [
    {
     "data": {
      "text/plain": [
       "Campaign ID      0\n",
       "Campaign Name    0\n",
       "Platform         0\n",
       "Start Date       0\n",
       "End Date         0\n",
       "Budget           0\n",
       "Objective        0\n",
       "dtype: int64"
      ]
     },
     "execution_count": 44,
     "metadata": {},
     "output_type": "execute_result"
    }
   ],
   "source": [
    "Marketing_Campaigns.isnull().sum()"
   ]
  },
  {
   "cell_type": "code",
   "execution_count": 46,
   "metadata": {
    "colab": {
     "base_uri": "https://localhost:8080/",
     "height": 206
    },
    "id": "g-8sJbGyvhPR",
    "outputId": "a7c2cd74-51e4-4506-9621-af9baeb4cfe4"
   },
   "outputs": [
    {
     "data": {
      "text/html": [
       "<div>\n",
       "<style scoped>\n",
       "    .dataframe tbody tr th:only-of-type {\n",
       "        vertical-align: middle;\n",
       "    }\n",
       "\n",
       "    .dataframe tbody tr th {\n",
       "        vertical-align: top;\n",
       "    }\n",
       "\n",
       "    .dataframe thead th {\n",
       "        text-align: right;\n",
       "    }\n",
       "</style>\n",
       "<table border=\"1\" class=\"dataframe\">\n",
       "  <thead>\n",
       "    <tr style=\"text-align: right;\">\n",
       "      <th></th>\n",
       "      <th>Ad ID</th>\n",
       "      <th>Campaign ID</th>\n",
       "      <th>Date</th>\n",
       "      <th>Ad Type</th>\n",
       "      <th>Impressions</th>\n",
       "      <th>Clicks</th>\n",
       "      <th>Conversions</th>\n",
       "      <th>Cost</th>\n",
       "    </tr>\n",
       "  </thead>\n",
       "  <tbody>\n",
       "    <tr>\n",
       "      <th>0</th>\n",
       "      <td>CAMPAIGN_001_AD_505</td>\n",
       "      <td>CAMPAIGN_001</td>\n",
       "      <td>2024-11-25</td>\n",
       "      <td>Video</td>\n",
       "      <td>19726</td>\n",
       "      <td>2269</td>\n",
       "      <td>81</td>\n",
       "      <td>815.22</td>\n",
       "    </tr>\n",
       "    <tr>\n",
       "      <th>1</th>\n",
       "      <td>CAMPAIGN_001_AD_674</td>\n",
       "      <td>CAMPAIGN_001</td>\n",
       "      <td>2024-10-02</td>\n",
       "      <td>Video</td>\n",
       "      <td>98912</td>\n",
       "      <td>4888</td>\n",
       "      <td>229</td>\n",
       "      <td>2703.69</td>\n",
       "    </tr>\n",
       "    <tr>\n",
       "      <th>2</th>\n",
       "      <td>CAMPAIGN_001_AD_508</td>\n",
       "      <td>CAMPAIGN_001</td>\n",
       "      <td>2024-07-04</td>\n",
       "      <td>Image</td>\n",
       "      <td>19131</td>\n",
       "      <td>4274</td>\n",
       "      <td>262</td>\n",
       "      <td>363.64</td>\n",
       "    </tr>\n",
       "    <tr>\n",
       "      <th>3</th>\n",
       "      <td>CAMPAIGN_001_AD_148</td>\n",
       "      <td>CAMPAIGN_001</td>\n",
       "      <td>2024-02-26</td>\n",
       "      <td>Image</td>\n",
       "      <td>83240</td>\n",
       "      <td>1410</td>\n",
       "      <td>415</td>\n",
       "      <td>2073.40</td>\n",
       "    </tr>\n",
       "    <tr>\n",
       "      <th>4</th>\n",
       "      <td>CAMPAIGN_001_AD_710</td>\n",
       "      <td>CAMPAIGN_001</td>\n",
       "      <td>2024-02-02</td>\n",
       "      <td>Video</td>\n",
       "      <td>51019</td>\n",
       "      <td>4981</td>\n",
       "      <td>249</td>\n",
       "      <td>1634.43</td>\n",
       "    </tr>\n",
       "  </tbody>\n",
       "</table>\n",
       "</div>"
      ],
      "text/plain": [
       "                 Ad ID   Campaign ID       Date Ad Type  Impressions  Clicks  \\\n",
       "0  CAMPAIGN_001_AD_505  CAMPAIGN_001 2024-11-25   Video        19726    2269   \n",
       "1  CAMPAIGN_001_AD_674  CAMPAIGN_001 2024-10-02   Video        98912    4888   \n",
       "2  CAMPAIGN_001_AD_508  CAMPAIGN_001 2024-07-04   Image        19131    4274   \n",
       "3  CAMPAIGN_001_AD_148  CAMPAIGN_001 2024-02-26   Image        83240    1410   \n",
       "4  CAMPAIGN_001_AD_710  CAMPAIGN_001 2024-02-02   Video        51019    4981   \n",
       "\n",
       "   Conversions     Cost  \n",
       "0           81   815.22  \n",
       "1          229  2703.69  \n",
       "2          262   363.64  \n",
       "3          415  2073.40  \n",
       "4          249  1634.43  "
      ]
     },
     "execution_count": 46,
     "metadata": {},
     "output_type": "execute_result"
    }
   ],
   "source": [
    "Marketing_AdsPerformance.head()"
   ]
  },
  {
   "cell_type": "code",
   "execution_count": 48,
   "metadata": {
    "colab": {
     "base_uri": "https://localhost:8080/"
    },
    "id": "Mv_-_nhkxmvS",
    "outputId": "8afdf65d-5cbb-4a05-8bdc-d9e64d8fc087"
   },
   "outputs": [
    {
     "data": {
      "text/plain": [
       "array(['Video', 'Image', 'Story'], dtype=object)"
      ]
     },
     "execution_count": 48,
     "metadata": {},
     "output_type": "execute_result"
    }
   ],
   "source": [
    "Marketing_AdsPerformance['Ad Type'].unique()"
   ]
  },
  {
   "cell_type": "code",
   "execution_count": 50,
   "metadata": {
    "colab": {
     "base_uri": "https://localhost:8080/",
     "height": 335
    },
    "id": "GDOoos9Qvm9i",
    "outputId": "d949e3b2-8721-40f5-a8ee-651df9d0dab2"
   },
   "outputs": [
    {
     "data": {
      "text/plain": [
       "Ad ID          0\n",
       "Campaign ID    0\n",
       "Date           0\n",
       "Ad Type        0\n",
       "Impressions    0\n",
       "Clicks         0\n",
       "Conversions    0\n",
       "Cost           0\n",
       "dtype: int64"
      ]
     },
     "execution_count": 50,
     "metadata": {},
     "output_type": "execute_result"
    }
   ],
   "source": [
    "Marketing_AdsPerformance.isnull().sum()"
   ]
  },
  {
   "cell_type": "code",
   "execution_count": 52,
   "metadata": {
    "colab": {
     "base_uri": "https://localhost:8080/"
    },
    "id": "c5TuS2AyvydK",
    "outputId": "f936068c-3cdb-4ee2-aeb7-e5c9d9a9f7c8"
   },
   "outputs": [
    {
     "data": {
      "text/plain": [
       "0"
      ]
     },
     "execution_count": 52,
     "metadata": {},
     "output_type": "execute_result"
    }
   ],
   "source": [
    "Marketing_AdsPerformance.duplicated().sum()"
   ]
  },
  {
   "cell_type": "code",
   "execution_count": 54,
   "metadata": {
    "colab": {
     "base_uri": "https://localhost:8080/"
    },
    "id": "j92wtujiN_mj",
    "outputId": "43fbf021-2bd4-454b-8eec-4cb63a9efb13"
   },
   "outputs": [
    {
     "data": {
      "text/plain": [
       "(151, 8)"
      ]
     },
     "execution_count": 54,
     "metadata": {},
     "output_type": "execute_result"
    }
   ],
   "source": [
    "Marketing_AdsPerformance.shape"
   ]
  },
  {
   "cell_type": "code",
   "execution_count": 56,
   "metadata": {
    "colab": {
     "base_uri": "https://localhost:8080/"
    },
    "id": "s2H-2PiPv4ri",
    "outputId": "183e18e5-f0ae-4096-c9e1-0bafb2279375"
   },
   "outputs": [
    {
     "name": "stdout",
     "output_type": "stream",
     "text": [
      "<class 'pandas.core.frame.DataFrame'>\n",
      "RangeIndex: 127 entries, 0 to 126\n",
      "Data columns (total 6 columns):\n",
      " #   Column           Non-Null Count  Dtype  \n",
      "---  ------           --------------  -----  \n",
      " 0   Campaign ID      127 non-null    object \n",
      " 1   Gender           127 non-null    object \n",
      " 2   Age Group        127 non-null    object \n",
      " 3   Region           127 non-null    object \n",
      " 4   Reach            127 non-null    int64  \n",
      " 5   Engagement Rate  127 non-null    float64\n",
      "dtypes: float64(1), int64(1), object(4)\n",
      "memory usage: 6.1+ KB\n"
     ]
    }
   ],
   "source": [
    "Marketing_AudienceInsights.info()"
   ]
  },
  {
   "cell_type": "code",
   "execution_count": 58,
   "metadata": {
    "colab": {
     "base_uri": "https://localhost:8080/"
    },
    "id": "yPEM58i0wART",
    "outputId": "adc813d1-88dc-4b9d-c248-4e2c99abf57a"
   },
   "outputs": [
    {
     "data": {
      "text/plain": [
       "(127, 6)"
      ]
     },
     "execution_count": 58,
     "metadata": {},
     "output_type": "execute_result"
    }
   ],
   "source": [
    "Marketing_AudienceInsights.shape"
   ]
  },
  {
   "cell_type": "code",
   "execution_count": 60,
   "metadata": {
    "colab": {
     "base_uri": "https://localhost:8080/"
    },
    "id": "43N_-7wQwQoj",
    "outputId": "3c51cc1d-80e3-4723-b8c8-9972f0a83316"
   },
   "outputs": [
    {
     "data": {
      "text/plain": [
       "0"
      ]
     },
     "execution_count": 60,
     "metadata": {},
     "output_type": "execute_result"
    }
   ],
   "source": [
    "Marketing_AudienceInsights.duplicated().sum()"
   ]
  },
  {
   "cell_type": "code",
   "execution_count": 62,
   "metadata": {
    "colab": {
     "base_uri": "https://localhost:8080/",
     "height": 272
    },
    "id": "YT0G6ggdwgJ7",
    "outputId": "3937ec8d-4a6d-420d-95fd-40763413ca98"
   },
   "outputs": [
    {
     "data": {
      "text/plain": [
       "Campaign ID        0\n",
       "Gender             0\n",
       "Age Group          0\n",
       "Region             0\n",
       "Reach              0\n",
       "Engagement Rate    0\n",
       "dtype: int64"
      ]
     },
     "execution_count": 62,
     "metadata": {},
     "output_type": "execute_result"
    }
   ],
   "source": [
    "Marketing_AudienceInsights.isnull().sum()"
   ]
  }
 ],
 "metadata": {
  "colab": {
   "provenance": []
  },
  "kernelspec": {
   "display_name": "Python 3 (ipykernel)",
   "language": "python",
   "name": "python3"
  },
  "language_info": {
   "codemirror_mode": {
    "name": "ipython",
    "version": 3
   },
   "file_extension": ".py",
   "mimetype": "text/x-python",
   "name": "python",
   "nbconvert_exporter": "python",
   "pygments_lexer": "ipython3",
   "version": "3.12.4"
  }
 },
 "nbformat": 4,
 "nbformat_minor": 4
}
